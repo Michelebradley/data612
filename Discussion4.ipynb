{
  "nbformat": 4,
  "nbformat_minor": 0,
  "metadata": {
    "colab": {
      "name": "Discussion4.ipynb",
      "provenance": []
    },
    "kernelspec": {
      "name": "python3",
      "display_name": "Python 3"
    }
  },
  "cells": [
    {
      "cell_type": "markdown",
      "metadata": {
        "id": "9N_c5eAfH_lL",
        "colab_type": "text"
      },
      "source": [
        "Please complete the research discussion assignment in a Jupyter or R Markdown notebook. You should post the GitHub link to your research in a new discussion thread.\n",
        "\n",
        "Mitigating the Harm of Recommender Systems\n",
        "\n",
        "Read one or more of the articles below and consider how to counter the radicalizing effects of recommender systems or ways to prevent algorithmic discrimination."
      ]
    },
    {
      "cell_type": "markdown",
      "metadata": {
        "id": "OxWIVyF8IMCy",
        "colab_type": "text"
      },
      "source": [
        "I read the article: \"Youtube, the great Radicalizer\", which argues that \"you are never “hardcore” enough for YouTube’s recommendation algorithm\". A women started watching videos about Trump, and ended up watching videos about white supremasists. Then she watched videos about jogging, and ended up watching videos about ultramarathons. \n",
        "\n",
        "The reason, is that YouTube wants you to stay on YouTube for as long as possible, and it's algorithm thinks that people are \"drawn to\n",
        "content that is...extreme\". This tactic, is exploiting our human desire to \"look behind the curtain\" and dig deeper.\n",
        "\n",
        "How can re counter the effects? One Google engineer, Guillaume Chaslot, attempted to. But corporate greed didn't allow that to happen, and so he was fired. How else can we counter it? For one thing, we should be more concious as inviduals when an algorithm takes us down a crazy path, and we should stay skeptical of the news that we see. As engineers, we should try to use recommender systems not to push extremism, but instead promote credible facts."
      ]
    }
  ]
}
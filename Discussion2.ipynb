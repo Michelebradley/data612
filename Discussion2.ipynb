{
  "nbformat": 4,
  "nbformat_minor": 0,
  "metadata": {
    "colab": {
      "name": "Discussion2.ipynb",
      "provenance": []
    },
    "kernelspec": {
      "name": "python3",
      "display_name": "Python 3"
    }
  },
  "cells": [
    {
      "cell_type": "markdown",
      "metadata": {
        "id": "NYj4iZ6PncbI",
        "colab_type": "text"
      },
      "source": [
        "Please complete the research discussion assignment in a Jupyter or R Markdown notebook. You should post the GitHub link to your research in a new discussion thread.\n",
        "\n",
        "For this discussion item, please watch the following talk and summarize what you found to be the most important or interesting points. The first half will cover some of the mathematical techniques covered in this unit's reading and the second half some of the data management challenges in an industrial-scale recommendation system."
      ]
    },
    {
      "cell_type": "markdown",
      "metadata": {
        "id": "JgOfO2PUn81i",
        "colab_type": "text"
      },
      "source": [
        "One thing that was really facinating was seeing how different music recommender systems worked. The use of echonest, which uses audio context and metadata was interesting, and that platforms such as Sonza and Pandora would spend so much time manually tagging songs sounded very time intensive. \n",
        "\n",
        "Scaling it up with Spark was also very interesting, because they could scale up a collaborative filtering recommendation system with many millions of rows of data by joining where data is cached. \n",
        "\n",
        "With Spark, they are able to load rating data into memory so that they are no re-read during every iteration. In addition, they were able to filter data so that each user only needs the data that is relevant to it's recommendation system. It was really interesting to see how to optimize a recommendation system while eloquently speaking about the math behind it. "
      ]
    },
    {
      "cell_type": "code",
      "metadata": {
        "id": "wDB0UR69qO7P",
        "colab_type": "code",
        "colab": {}
      },
      "source": [
        ""
      ],
      "execution_count": 0,
      "outputs": []
    }
  ]
}
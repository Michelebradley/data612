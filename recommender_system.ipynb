{
  "nbformat": 4,
  "nbformat_minor": 0,
  "metadata": {
    "colab": {
      "name": "recommender_system.ipynb",
      "provenance": [],
      "toc_visible": true
    },
    "kernelspec": {
      "name": "python3",
      "display_name": "Python 3"
    }
  },
  "cells": [
    {
      "cell_type": "markdown",
      "metadata": {
        "id": "PhuEjRzhNB2u",
        "colab_type": "text"
      },
      "source": [
        "\n",
        "\n",
        "*  Briefly describe the recommender system that you’re going to build out from a business perspective, e.g. “This system recommends data science books to readers.”\n",
        "> This system recommends resturants to users\n",
        "*  Find a dataset, or build out your own toy dataset.  As a minimum requirement for complexity, please include numeric ratings for at least five users, across at least five items, with some missing data.\n",
        "> This project, uses data from kaggle: https://www.kaggle.com/uciml/restaurant-data-with-consumer-ratings/data\n"
      ]
    },
    {
      "cell_type": "code",
      "metadata": {
        "id": "5Hj3lVQ7kNmP",
        "colab_type": "code",
        "colab": {
          "base_uri": "https://localhost:8080/",
          "height": 516
        },
        "outputId": "1106d832-19b1-4f92-b43c-b2980ad09c5a"
      },
      "source": [
        "\"\"\"Load your data into (for example) an R or pandas dataframe, a Python dictionary or list of lists, (or another data structure of your choosing).  \n",
        "From there, create a user-item matrix. \"\"\"\n",
        "\n",
        "import pandas as pd\n",
        "\n",
        "ratings = pd.read_csv('rating_final.csv')\n",
        "\"\"\"If you choose to work with a large dataset, you’re encouraged to also create a small, relatively dense “user-item” matrix as a \n",
        "subset so that you can hand-verify your calculations. \"\"\"\n",
        "places = [135085, 132825, 135032, 132834, 135052, 135038]\n",
        "ratings2 = ratings[ratings['placeID'].isin(places)]\n",
        "user_matrix = ratings2.pivot(index='userID', columns='placeID', values='rating')\n",
        "subset = user_matrix.tail(15)\n",
        "subset"
      ],
      "execution_count": 1,
      "outputs": [
        {
          "output_type": "execute_result",
          "data": {
            "text/html": [
              "<div>\n",
              "<style scoped>\n",
              "    .dataframe tbody tr th:only-of-type {\n",
              "        vertical-align: middle;\n",
              "    }\n",
              "\n",
              "    .dataframe tbody tr th {\n",
              "        vertical-align: top;\n",
              "    }\n",
              "\n",
              "    .dataframe thead th {\n",
              "        text-align: right;\n",
              "    }\n",
              "</style>\n",
              "<table border=\"1\" class=\"dataframe\">\n",
              "  <thead>\n",
              "    <tr style=\"text-align: right;\">\n",
              "      <th>placeID</th>\n",
              "      <th>132825</th>\n",
              "      <th>132834</th>\n",
              "      <th>135032</th>\n",
              "      <th>135038</th>\n",
              "      <th>135052</th>\n",
              "      <th>135085</th>\n",
              "    </tr>\n",
              "    <tr>\n",
              "      <th>userID</th>\n",
              "      <th></th>\n",
              "      <th></th>\n",
              "      <th></th>\n",
              "      <th></th>\n",
              "      <th></th>\n",
              "      <th></th>\n",
              "    </tr>\n",
              "  </thead>\n",
              "  <tbody>\n",
              "    <tr>\n",
              "      <th>U1108</th>\n",
              "      <td>NaN</td>\n",
              "      <td>NaN</td>\n",
              "      <td>2.0</td>\n",
              "      <td>NaN</td>\n",
              "      <td>NaN</td>\n",
              "      <td>1.0</td>\n",
              "    </tr>\n",
              "    <tr>\n",
              "      <th>U1109</th>\n",
              "      <td>2.0</td>\n",
              "      <td>NaN</td>\n",
              "      <td>2.0</td>\n",
              "      <td>2.0</td>\n",
              "      <td>NaN</td>\n",
              "      <td>2.0</td>\n",
              "    </tr>\n",
              "    <tr>\n",
              "      <th>U1112</th>\n",
              "      <td>NaN</td>\n",
              "      <td>1.0</td>\n",
              "      <td>NaN</td>\n",
              "      <td>NaN</td>\n",
              "      <td>NaN</td>\n",
              "      <td>NaN</td>\n",
              "    </tr>\n",
              "    <tr>\n",
              "      <th>U1113</th>\n",
              "      <td>NaN</td>\n",
              "      <td>NaN</td>\n",
              "      <td>0.0</td>\n",
              "      <td>1.0</td>\n",
              "      <td>NaN</td>\n",
              "      <td>1.0</td>\n",
              "    </tr>\n",
              "    <tr>\n",
              "      <th>U1114</th>\n",
              "      <td>0.0</td>\n",
              "      <td>0.0</td>\n",
              "      <td>NaN</td>\n",
              "      <td>NaN</td>\n",
              "      <td>NaN</td>\n",
              "      <td>NaN</td>\n",
              "    </tr>\n",
              "    <tr>\n",
              "      <th>U1116</th>\n",
              "      <td>2.0</td>\n",
              "      <td>2.0</td>\n",
              "      <td>NaN</td>\n",
              "      <td>2.0</td>\n",
              "      <td>2.0</td>\n",
              "      <td>2.0</td>\n",
              "    </tr>\n",
              "    <tr>\n",
              "      <th>U1120</th>\n",
              "      <td>NaN</td>\n",
              "      <td>NaN</td>\n",
              "      <td>1.0</td>\n",
              "      <td>0.0</td>\n",
              "      <td>NaN</td>\n",
              "      <td>0.0</td>\n",
              "    </tr>\n",
              "    <tr>\n",
              "      <th>U1122</th>\n",
              "      <td>NaN</td>\n",
              "      <td>2.0</td>\n",
              "      <td>NaN</td>\n",
              "      <td>2.0</td>\n",
              "      <td>NaN</td>\n",
              "      <td>2.0</td>\n",
              "    </tr>\n",
              "    <tr>\n",
              "      <th>U1124</th>\n",
              "      <td>NaN</td>\n",
              "      <td>NaN</td>\n",
              "      <td>1.0</td>\n",
              "      <td>NaN</td>\n",
              "      <td>NaN</td>\n",
              "      <td>NaN</td>\n",
              "    </tr>\n",
              "    <tr>\n",
              "      <th>U1125</th>\n",
              "      <td>NaN</td>\n",
              "      <td>NaN</td>\n",
              "      <td>1.0</td>\n",
              "      <td>2.0</td>\n",
              "      <td>NaN</td>\n",
              "      <td>NaN</td>\n",
              "    </tr>\n",
              "    <tr>\n",
              "      <th>U1126</th>\n",
              "      <td>NaN</td>\n",
              "      <td>NaN</td>\n",
              "      <td>NaN</td>\n",
              "      <td>1.0</td>\n",
              "      <td>2.0</td>\n",
              "      <td>NaN</td>\n",
              "    </tr>\n",
              "    <tr>\n",
              "      <th>U1132</th>\n",
              "      <td>2.0</td>\n",
              "      <td>NaN</td>\n",
              "      <td>1.0</td>\n",
              "      <td>1.0</td>\n",
              "      <td>2.0</td>\n",
              "      <td>2.0</td>\n",
              "    </tr>\n",
              "    <tr>\n",
              "      <th>U1134</th>\n",
              "      <td>1.0</td>\n",
              "      <td>NaN</td>\n",
              "      <td>NaN</td>\n",
              "      <td>NaN</td>\n",
              "      <td>NaN</td>\n",
              "      <td>2.0</td>\n",
              "    </tr>\n",
              "    <tr>\n",
              "      <th>U1135</th>\n",
              "      <td>0.0</td>\n",
              "      <td>0.0</td>\n",
              "      <td>0.0</td>\n",
              "      <td>NaN</td>\n",
              "      <td>0.0</td>\n",
              "      <td>0.0</td>\n",
              "    </tr>\n",
              "    <tr>\n",
              "      <th>U1137</th>\n",
              "      <td>2.0</td>\n",
              "      <td>2.0</td>\n",
              "      <td>NaN</td>\n",
              "      <td>NaN</td>\n",
              "      <td>NaN</td>\n",
              "      <td>2.0</td>\n",
              "    </tr>\n",
              "  </tbody>\n",
              "</table>\n",
              "</div>"
            ],
            "text/plain": [
              "placeID  132825  132834  135032  135038  135052  135085\n",
              "userID                                                 \n",
              "U1108       NaN     NaN     2.0     NaN     NaN     1.0\n",
              "U1109       2.0     NaN     2.0     2.0     NaN     2.0\n",
              "U1112       NaN     1.0     NaN     NaN     NaN     NaN\n",
              "U1113       NaN     NaN     0.0     1.0     NaN     1.0\n",
              "U1114       0.0     0.0     NaN     NaN     NaN     NaN\n",
              "U1116       2.0     2.0     NaN     2.0     2.0     2.0\n",
              "U1120       NaN     NaN     1.0     0.0     NaN     0.0\n",
              "U1122       NaN     2.0     NaN     2.0     NaN     2.0\n",
              "U1124       NaN     NaN     1.0     NaN     NaN     NaN\n",
              "U1125       NaN     NaN     1.0     2.0     NaN     NaN\n",
              "U1126       NaN     NaN     NaN     1.0     2.0     NaN\n",
              "U1132       2.0     NaN     1.0     1.0     2.0     2.0\n",
              "U1134       1.0     NaN     NaN     NaN     NaN     2.0\n",
              "U1135       0.0     0.0     0.0     NaN     0.0     0.0\n",
              "U1137       2.0     2.0     NaN     NaN     NaN     2.0"
            ]
          },
          "metadata": {
            "tags": []
          },
          "execution_count": 1
        }
      ]
    },
    {
      "cell_type": "code",
      "metadata": {
        "id": "OQ6RY-P8kaZk",
        "colab_type": "code",
        "colab": {}
      },
      "source": [
        "\"\"\"Break your ratings into separate training and test datasets. \"\"\"\n",
        "import numpy as np\n",
        "TRAIN_SIZE = 0.80\n",
        "msk = np.random.rand(len(subset)) < TRAIN_SIZE\n",
        "\n",
        "train = subset[msk]  \n",
        "test = subset[~msk]"
      ],
      "execution_count": 0,
      "outputs": []
    },
    {
      "cell_type": "code",
      "metadata": {
        "id": "jf_AqTANN-GA",
        "colab_type": "code",
        "colab": {
          "base_uri": "https://localhost:8080/",
          "height": 35
        },
        "outputId": "c715979e-2473-4f6f-a042-2ae41d136c9f"
      },
      "source": [
        "\"\"\"Using your training data, calculate the raw average (mean) rating for every user-item combination.\"\"\"\n",
        "average = train.unstack().mean()\n",
        "average"
      ],
      "execution_count": 3,
      "outputs": [
        {
          "output_type": "execute_result",
          "data": {
            "text/plain": [
              "1.2857142857142858"
            ]
          },
          "metadata": {
            "tags": []
          },
          "execution_count": 3
        }
      ]
    },
    {
      "cell_type": "code",
      "metadata": {
        "id": "iraC7B2kOCUA",
        "colab_type": "code",
        "colab": {
          "base_uri": "https://localhost:8080/",
          "height": 35
        },
        "outputId": "a3ebc291-966c-4a06-f697-e58ffb7fc410"
      },
      "source": [
        "\"\"\"Calculate the RMSE for raw average for both your training data and your test data. Using your training data, calculate the bias for each user and each item.\"\"\"\n",
        "SE = (train - average)*(train - average)\n",
        "MSE = SE.mean().mean()\n",
        "RMSE = MSE ** (1/2)\n",
        "\"train RMSE is \" + str(RMSE)"
      ],
      "execution_count": 4,
      "outputs": [
        {
          "output_type": "execute_result",
          "data": {
            "text/plain": [
              "'train RMSE is 0.8386452019503516'"
            ]
          },
          "metadata": {
            "tags": []
          },
          "execution_count": 4
        }
      ]
    },
    {
      "cell_type": "code",
      "metadata": {
        "id": "2gIgKd15UcX9",
        "colab_type": "code",
        "colab": {
          "base_uri": "https://localhost:8080/",
          "height": 35
        },
        "outputId": "1124bd65-2877-4897-8b35-d1ba1c5cb408"
      },
      "source": [
        "SE = (test - average)*(test - average)\n",
        "MSE = SE.mean().mean()\n",
        "RMSE = MSE ** (1/2)\n",
        "\"test RMSE is \" + str(RMSE)"
      ],
      "execution_count": 5,
      "outputs": [
        {
          "output_type": "execute_result",
          "data": {
            "text/plain": [
              "'test RMSE is 0.8622861560792835'"
            ]
          },
          "metadata": {
            "tags": []
          },
          "execution_count": 5
        }
      ]
    },
    {
      "cell_type": "code",
      "metadata": {
        "id": "yCVwevqxONJ9",
        "colab_type": "code",
        "colab": {
          "base_uri": "https://localhost:8080/",
          "height": 319
        },
        "outputId": "8e5f41d4-37dc-49f4-e545-bfe7dea251b8"
      },
      "source": [
        "\"\"\"From the raw average, and the appropriate user and item biases, calculate the baseline predictors for every user-item combination.\"\"\"\n",
        "user_averages = subset.mean(axis=1)\n",
        "place_averages = train.mean(axis=0)\n",
        "\n",
        "user_averages - average"
      ],
      "execution_count": 6,
      "outputs": [
        {
          "output_type": "execute_result",
          "data": {
            "text/plain": [
              "userID\n",
              "U1108    0.214286\n",
              "U1109    0.714286\n",
              "U1112   -0.285714\n",
              "U1113   -0.619048\n",
              "U1114   -1.285714\n",
              "U1116    0.714286\n",
              "U1120   -0.952381\n",
              "U1122    0.714286\n",
              "U1124   -0.285714\n",
              "U1125    0.214286\n",
              "U1126    0.214286\n",
              "U1132    0.314286\n",
              "U1134    0.214286\n",
              "U1135   -1.285714\n",
              "U1137    0.714286\n",
              "dtype: float64"
            ]
          },
          "metadata": {
            "tags": []
          },
          "execution_count": 6
        }
      ]
    },
    {
      "cell_type": "code",
      "metadata": {
        "id": "WDZZoMCqVr1e",
        "colab_type": "code",
        "colab": {
          "base_uri": "https://localhost:8080/",
          "height": 159
        },
        "outputId": "81538a66-0206-4834-d91f-7857de5e571c"
      },
      "source": [
        "place_averages - average"
      ],
      "execution_count": 7,
      "outputs": [
        {
          "output_type": "execute_result",
          "data": {
            "text/plain": [
              "placeID\n",
              "132825    0.214286\n",
              "132834    0.047619\n",
              "135032   -0.285714\n",
              "135038    0.047619\n",
              "135052    0.047619\n",
              "135085    0.047619\n",
              "dtype: float64"
            ]
          },
          "metadata": {
            "tags": []
          },
          "execution_count": 7
        }
      ]
    },
    {
      "cell_type": "code",
      "metadata": {
        "id": "qIg9fTFiONYp",
        "colab_type": "code",
        "colab": {
          "base_uri": "https://localhost:8080/",
          "height": 399
        },
        "outputId": "91674c09-521c-4a2b-a1a0-3f44257d0d03"
      },
      "source": [
        "\"\"\"Calculate the RMSE for the baseline predictors for both your training data and your test data.\"\"\"\n",
        "\n",
        "train1 = train.copy()\n",
        "for val in places:\n",
        "  a = train1.apply(lambda x: x[val] if pd.notnull(x[val]) else average+place_averages[val], axis=1)\n",
        "  train1[val] = (a + user_averages).clip(0, 2)\n",
        "train1"
      ],
      "execution_count": 8,
      "outputs": [
        {
          "output_type": "execute_result",
          "data": {
            "text/html": [
              "<div>\n",
              "<style scoped>\n",
              "    .dataframe tbody tr th:only-of-type {\n",
              "        vertical-align: middle;\n",
              "    }\n",
              "\n",
              "    .dataframe tbody tr th {\n",
              "        vertical-align: top;\n",
              "    }\n",
              "\n",
              "    .dataframe thead th {\n",
              "        text-align: right;\n",
              "    }\n",
              "</style>\n",
              "<table border=\"1\" class=\"dataframe\">\n",
              "  <thead>\n",
              "    <tr style=\"text-align: right;\">\n",
              "      <th>placeID</th>\n",
              "      <th>132825</th>\n",
              "      <th>132834</th>\n",
              "      <th>135032</th>\n",
              "      <th>135038</th>\n",
              "      <th>135052</th>\n",
              "      <th>135085</th>\n",
              "    </tr>\n",
              "    <tr>\n",
              "      <th>userID</th>\n",
              "      <th></th>\n",
              "      <th></th>\n",
              "      <th></th>\n",
              "      <th></th>\n",
              "      <th></th>\n",
              "      <th></th>\n",
              "    </tr>\n",
              "  </thead>\n",
              "  <tbody>\n",
              "    <tr>\n",
              "      <th>U1108</th>\n",
              "      <td>2.0</td>\n",
              "      <td>2.0</td>\n",
              "      <td>2.000000</td>\n",
              "      <td>2.000000</td>\n",
              "      <td>2.0</td>\n",
              "      <td>2.000000</td>\n",
              "    </tr>\n",
              "    <tr>\n",
              "      <th>U1109</th>\n",
              "      <td>2.0</td>\n",
              "      <td>2.0</td>\n",
              "      <td>2.000000</td>\n",
              "      <td>2.000000</td>\n",
              "      <td>2.0</td>\n",
              "      <td>2.000000</td>\n",
              "    </tr>\n",
              "    <tr>\n",
              "      <th>U1113</th>\n",
              "      <td>2.0</td>\n",
              "      <td>2.0</td>\n",
              "      <td>0.666667</td>\n",
              "      <td>1.666667</td>\n",
              "      <td>2.0</td>\n",
              "      <td>1.666667</td>\n",
              "    </tr>\n",
              "    <tr>\n",
              "      <th>U1116</th>\n",
              "      <td>2.0</td>\n",
              "      <td>2.0</td>\n",
              "      <td>2.000000</td>\n",
              "      <td>2.000000</td>\n",
              "      <td>2.0</td>\n",
              "      <td>2.000000</td>\n",
              "    </tr>\n",
              "    <tr>\n",
              "      <th>U1120</th>\n",
              "      <td>2.0</td>\n",
              "      <td>2.0</td>\n",
              "      <td>1.333333</td>\n",
              "      <td>0.333333</td>\n",
              "      <td>2.0</td>\n",
              "      <td>0.333333</td>\n",
              "    </tr>\n",
              "    <tr>\n",
              "      <th>U1124</th>\n",
              "      <td>2.0</td>\n",
              "      <td>2.0</td>\n",
              "      <td>2.000000</td>\n",
              "      <td>2.000000</td>\n",
              "      <td>2.0</td>\n",
              "      <td>2.000000</td>\n",
              "    </tr>\n",
              "    <tr>\n",
              "      <th>U1125</th>\n",
              "      <td>2.0</td>\n",
              "      <td>2.0</td>\n",
              "      <td>2.000000</td>\n",
              "      <td>2.000000</td>\n",
              "      <td>2.0</td>\n",
              "      <td>2.000000</td>\n",
              "    </tr>\n",
              "    <tr>\n",
              "      <th>U1132</th>\n",
              "      <td>2.0</td>\n",
              "      <td>2.0</td>\n",
              "      <td>2.000000</td>\n",
              "      <td>2.000000</td>\n",
              "      <td>2.0</td>\n",
              "      <td>2.000000</td>\n",
              "    </tr>\n",
              "    <tr>\n",
              "      <th>U1134</th>\n",
              "      <td>2.0</td>\n",
              "      <td>2.0</td>\n",
              "      <td>2.000000</td>\n",
              "      <td>2.000000</td>\n",
              "      <td>2.0</td>\n",
              "      <td>2.000000</td>\n",
              "    </tr>\n",
              "    <tr>\n",
              "      <th>U1135</th>\n",
              "      <td>0.0</td>\n",
              "      <td>0.0</td>\n",
              "      <td>0.000000</td>\n",
              "      <td>2.000000</td>\n",
              "      <td>0.0</td>\n",
              "      <td>0.000000</td>\n",
              "    </tr>\n",
              "    <tr>\n",
              "      <th>U1137</th>\n",
              "      <td>2.0</td>\n",
              "      <td>2.0</td>\n",
              "      <td>2.000000</td>\n",
              "      <td>2.000000</td>\n",
              "      <td>2.0</td>\n",
              "      <td>2.000000</td>\n",
              "    </tr>\n",
              "  </tbody>\n",
              "</table>\n",
              "</div>"
            ],
            "text/plain": [
              "placeID  132825  132834    135032    135038  135052    135085\n",
              "userID                                                       \n",
              "U1108       2.0     2.0  2.000000  2.000000     2.0  2.000000\n",
              "U1109       2.0     2.0  2.000000  2.000000     2.0  2.000000\n",
              "U1113       2.0     2.0  0.666667  1.666667     2.0  1.666667\n",
              "U1116       2.0     2.0  2.000000  2.000000     2.0  2.000000\n",
              "U1120       2.0     2.0  1.333333  0.333333     2.0  0.333333\n",
              "U1124       2.0     2.0  2.000000  2.000000     2.0  2.000000\n",
              "U1125       2.0     2.0  2.000000  2.000000     2.0  2.000000\n",
              "U1132       2.0     2.0  2.000000  2.000000     2.0  2.000000\n",
              "U1134       2.0     2.0  2.000000  2.000000     2.0  2.000000\n",
              "U1135       0.0     0.0  0.000000  2.000000     0.0  0.000000\n",
              "U1137       2.0     2.0  2.000000  2.000000     2.0  2.000000"
            ]
          },
          "metadata": {
            "tags": []
          },
          "execution_count": 8
        }
      ]
    },
    {
      "cell_type": "code",
      "metadata": {
        "id": "-03lZv-WcRrH",
        "colab_type": "code",
        "colab": {
          "base_uri": "https://localhost:8080/",
          "height": 194
        },
        "outputId": "82dd58c4-590c-4e28-9c18-aa038753ea90"
      },
      "source": [
        "test1 = test.copy()\n",
        "\n",
        "for val in places:\n",
        "  a = test1.apply(lambda x: x[val] if pd.notnull(x[val]) else average+place_averages[val], axis=1)\n",
        "  test1[val] = (a + user_averages).clip(0, 2)\n",
        "test1"
      ],
      "execution_count": 9,
      "outputs": [
        {
          "output_type": "execute_result",
          "data": {
            "text/html": [
              "<div>\n",
              "<style scoped>\n",
              "    .dataframe tbody tr th:only-of-type {\n",
              "        vertical-align: middle;\n",
              "    }\n",
              "\n",
              "    .dataframe tbody tr th {\n",
              "        vertical-align: top;\n",
              "    }\n",
              "\n",
              "    .dataframe thead th {\n",
              "        text-align: right;\n",
              "    }\n",
              "</style>\n",
              "<table border=\"1\" class=\"dataframe\">\n",
              "  <thead>\n",
              "    <tr style=\"text-align: right;\">\n",
              "      <th>placeID</th>\n",
              "      <th>132825</th>\n",
              "      <th>132834</th>\n",
              "      <th>135032</th>\n",
              "      <th>135038</th>\n",
              "      <th>135052</th>\n",
              "      <th>135085</th>\n",
              "    </tr>\n",
              "    <tr>\n",
              "      <th>userID</th>\n",
              "      <th></th>\n",
              "      <th></th>\n",
              "      <th></th>\n",
              "      <th></th>\n",
              "      <th></th>\n",
              "      <th></th>\n",
              "    </tr>\n",
              "  </thead>\n",
              "  <tbody>\n",
              "    <tr>\n",
              "      <th>U1112</th>\n",
              "      <td>2.0</td>\n",
              "      <td>2.0</td>\n",
              "      <td>2.0</td>\n",
              "      <td>2.0</td>\n",
              "      <td>2.0</td>\n",
              "      <td>2.0</td>\n",
              "    </tr>\n",
              "    <tr>\n",
              "      <th>U1114</th>\n",
              "      <td>0.0</td>\n",
              "      <td>0.0</td>\n",
              "      <td>2.0</td>\n",
              "      <td>2.0</td>\n",
              "      <td>2.0</td>\n",
              "      <td>2.0</td>\n",
              "    </tr>\n",
              "    <tr>\n",
              "      <th>U1122</th>\n",
              "      <td>2.0</td>\n",
              "      <td>2.0</td>\n",
              "      <td>2.0</td>\n",
              "      <td>2.0</td>\n",
              "      <td>2.0</td>\n",
              "      <td>2.0</td>\n",
              "    </tr>\n",
              "    <tr>\n",
              "      <th>U1126</th>\n",
              "      <td>2.0</td>\n",
              "      <td>2.0</td>\n",
              "      <td>2.0</td>\n",
              "      <td>2.0</td>\n",
              "      <td>2.0</td>\n",
              "      <td>2.0</td>\n",
              "    </tr>\n",
              "  </tbody>\n",
              "</table>\n",
              "</div>"
            ],
            "text/plain": [
              "placeID  132825  132834  135032  135038  135052  135085\n",
              "userID                                                 \n",
              "U1112       2.0     2.0     2.0     2.0     2.0     2.0\n",
              "U1114       0.0     0.0     2.0     2.0     2.0     2.0\n",
              "U1122       2.0     2.0     2.0     2.0     2.0     2.0\n",
              "U1126       2.0     2.0     2.0     2.0     2.0     2.0"
            ]
          },
          "metadata": {
            "tags": []
          },
          "execution_count": 9
        }
      ]
    },
    {
      "cell_type": "code",
      "metadata": {
        "id": "tBJuQWGoONGw",
        "colab_type": "code",
        "colab": {
          "base_uri": "https://localhost:8080/",
          "height": 35
        },
        "outputId": "b18a6c8e-2469-4a0e-a491-5b3057b8877d"
      },
      "source": [
        " \"\"\"Summarize your results. \"\"\"\n",
        "\n",
        "SE = (test - test1)*(test - test1)\n",
        "MSE = SE.mean().mean()\n",
        "RMSE = MSE ** (1/2)\n",
        "\"train RMSE using baseline predictors is \" + str(RMSE)"
      ],
      "execution_count": 10,
      "outputs": [
        {
          "output_type": "execute_result",
          "data": {
            "text/plain": [
              "'train RMSE using baseline predictors is 0.408248290463863'"
            ]
          },
          "metadata": {
            "tags": []
          },
          "execution_count": 10
        }
      ]
    },
    {
      "cell_type": "code",
      "metadata": {
        "id": "a3swMIDDhJ51",
        "colab_type": "code",
        "colab": {
          "base_uri": "https://localhost:8080/",
          "height": 35
        },
        "outputId": "22aa1c25-d168-4aea-e32d-a8490db3bdfd"
      },
      "source": [
        "SE = (train - train1)*(train - train1)\n",
        "MSE = SE.mean().mean()\n",
        "RMSE = MSE ** (1/2)\n",
        "\"train RMSE using baseline predictors is \" + str(RMSE) + \"which is much lower than using a straight average\""
      ],
      "execution_count": 12,
      "outputs": [
        {
          "output_type": "execute_result",
          "data": {
            "text/plain": [
              "'train RMSE using baseline predictors is 0.4169751944147297which is much lower than using a straight average'"
            ]
          },
          "metadata": {
            "tags": []
          },
          "execution_count": 12
        }
      ]
    },
    {
      "cell_type": "code",
      "metadata": {
        "id": "Zaj-4A1zhlJZ",
        "colab_type": "code",
        "colab": {}
      },
      "source": [
        ""
      ],
      "execution_count": 0,
      "outputs": []
    }
  ]
}